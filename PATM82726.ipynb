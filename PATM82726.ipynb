{
 "cells": [
  {
   "cell_type": "code",
   "execution_count": 53,
   "metadata": {},
   "outputs": [],
   "source": [
    "import pandas as pd\n",
    "import numpy as np\n",
    "from sklearn.preprocessing import scale\n",
    "import matplotlib.pyplot as plt\n",
    "from itertools import repeat\n",
    "plt.style.use('classic')\n",
    "%matplotlib inline\n",
    "\n",
    "import seaborn as sns\n",
    "sns.set()\n"
   ]
  },
  {
   "cell_type": "code",
   "execution_count": 35,
   "metadata": {},
   "outputs": [],
   "source": [
    "tlhead=pd.read_csv('/Users/kristofcoddens/Downloads/M82726.csv',nrows=4, low_memory=False, error_bad_lines=False,compression='gzip')"
   ]
  },
  {
   "cell_type": "code",
   "execution_count": 36,
   "metadata": {},
   "outputs": [
    {
     "data": {
      "text/html": [
       "<div>\n",
       "<style scoped>\n",
       "    .dataframe tbody tr th:only-of-type {\n",
       "        vertical-align: middle;\n",
       "    }\n",
       "\n",
       "    .dataframe tbody tr th {\n",
       "        vertical-align: top;\n",
       "    }\n",
       "\n",
       "    .dataframe thead th {\n",
       "        text-align: right;\n",
       "    }\n",
       "</style>\n",
       "<table border=\"1\" class=\"dataframe\">\n",
       "  <thead>\n",
       "    <tr style=\"text-align: right;\">\n",
       "      <th></th>\n",
       "      <th>Iddq_Delta[1]</th>\n",
       "      <th>Iddq_Delta[2]</th>\n",
       "      <th>Iddq_Delta[3]</th>\n",
       "      <th>Iddq_Delta[4]</th>\n",
       "      <th>Iddq_Delta[5]</th>\n",
       "      <th>Iddq_Delta[6]</th>\n",
       "      <th>Iddq_Delta[7]</th>\n",
       "      <th>Iddq_Delta[8]</th>\n",
       "      <th>Iddq_Delta[9]</th>\n",
       "      <th>Iddq_Delta[10]</th>\n",
       "      <th>...</th>\n",
       "      <th>Iddq_Delta_Before[2]</th>\n",
       "      <th>Iddq_Delta_Before[3]</th>\n",
       "      <th>Iddq_Delta_Before[4]</th>\n",
       "      <th>Iddq_Delta_Before[5]</th>\n",
       "      <th>Iddq_Delta_Before[6]</th>\n",
       "      <th>Iddq_Delta_Before[7]</th>\n",
       "      <th>Iddq_Delta_Before[8]</th>\n",
       "      <th>Iddq_Delta_Before[9]</th>\n",
       "      <th>Iddq_Delta_Before[10]</th>\n",
       "      <th>Iddq_Delta_Before_After</th>\n",
       "    </tr>\n",
       "  </thead>\n",
       "  <tbody>\n",
       "    <tr>\n",
       "      <th>0</th>\n",
       "      <td>NaN</td>\n",
       "      <td>NaN</td>\n",
       "      <td>NaN</td>\n",
       "      <td>NaN</td>\n",
       "      <td>NaN</td>\n",
       "      <td>NaN</td>\n",
       "      <td>NaN</td>\n",
       "      <td>NaN</td>\n",
       "      <td>NaN</td>\n",
       "      <td>NaN</td>\n",
       "      <td>...</td>\n",
       "      <td>0.039640</td>\n",
       "      <td>0.049383</td>\n",
       "      <td>0.039454</td>\n",
       "      <td>0.043954</td>\n",
       "      <td>0.044016</td>\n",
       "      <td>0.031137</td>\n",
       "      <td>0.042144</td>\n",
       "      <td>0.043260</td>\n",
       "      <td>0.049668</td>\n",
       "      <td>0.071149</td>\n",
       "    </tr>\n",
       "    <tr>\n",
       "      <th>1</th>\n",
       "      <td>NaN</td>\n",
       "      <td>NaN</td>\n",
       "      <td>NaN</td>\n",
       "      <td>NaN</td>\n",
       "      <td>NaN</td>\n",
       "      <td>NaN</td>\n",
       "      <td>NaN</td>\n",
       "      <td>NaN</td>\n",
       "      <td>NaN</td>\n",
       "      <td>NaN</td>\n",
       "      <td>...</td>\n",
       "      <td>0.037783</td>\n",
       "      <td>0.023285</td>\n",
       "      <td>0.022145</td>\n",
       "      <td>0.025020</td>\n",
       "      <td>0.029022</td>\n",
       "      <td>0.025850</td>\n",
       "      <td>0.027622</td>\n",
       "      <td>0.036445</td>\n",
       "      <td>0.023148</td>\n",
       "      <td>0.034227</td>\n",
       "    </tr>\n",
       "    <tr>\n",
       "      <th>2</th>\n",
       "      <td>NaN</td>\n",
       "      <td>NaN</td>\n",
       "      <td>NaN</td>\n",
       "      <td>NaN</td>\n",
       "      <td>NaN</td>\n",
       "      <td>NaN</td>\n",
       "      <td>NaN</td>\n",
       "      <td>NaN</td>\n",
       "      <td>NaN</td>\n",
       "      <td>NaN</td>\n",
       "      <td>...</td>\n",
       "      <td>0.010908</td>\n",
       "      <td>0.007078</td>\n",
       "      <td>0.010474</td>\n",
       "      <td>0.013895</td>\n",
       "      <td>0.003458</td>\n",
       "      <td>0.014750</td>\n",
       "      <td>0.013858</td>\n",
       "      <td>-0.006185</td>\n",
       "      <td>0.025038</td>\n",
       "      <td>0.024555</td>\n",
       "    </tr>\n",
       "    <tr>\n",
       "      <th>3</th>\n",
       "      <td>NaN</td>\n",
       "      <td>NaN</td>\n",
       "      <td>NaN</td>\n",
       "      <td>NaN</td>\n",
       "      <td>NaN</td>\n",
       "      <td>NaN</td>\n",
       "      <td>NaN</td>\n",
       "      <td>NaN</td>\n",
       "      <td>NaN</td>\n",
       "      <td>NaN</td>\n",
       "      <td>...</td>\n",
       "      <td>0.038819</td>\n",
       "      <td>0.051850</td>\n",
       "      <td>0.071856</td>\n",
       "      <td>0.061121</td>\n",
       "      <td>0.063913</td>\n",
       "      <td>0.068778</td>\n",
       "      <td>0.073643</td>\n",
       "      <td>0.072749</td>\n",
       "      <td>0.062871</td>\n",
       "      <td>0.069101</td>\n",
       "    </tr>\n",
       "  </tbody>\n",
       "</table>\n",
       "<p>4 rows × 55 columns</p>\n",
       "</div>"
      ],
      "text/plain": [
       "   Iddq_Delta[1]  Iddq_Delta[2]  Iddq_Delta[3]  Iddq_Delta[4]  Iddq_Delta[5]  \\\n",
       "0            NaN            NaN            NaN            NaN            NaN   \n",
       "1            NaN            NaN            NaN            NaN            NaN   \n",
       "2            NaN            NaN            NaN            NaN            NaN   \n",
       "3            NaN            NaN            NaN            NaN            NaN   \n",
       "\n",
       "   Iddq_Delta[6]  Iddq_Delta[7]  Iddq_Delta[8]  Iddq_Delta[9]  Iddq_Delta[10]  \\\n",
       "0            NaN            NaN            NaN            NaN             NaN   \n",
       "1            NaN            NaN            NaN            NaN             NaN   \n",
       "2            NaN            NaN            NaN            NaN             NaN   \n",
       "3            NaN            NaN            NaN            NaN             NaN   \n",
       "\n",
       "            ...             Iddq_Delta_Before[2]  Iddq_Delta_Before[3]  \\\n",
       "0           ...                         0.039640              0.049383   \n",
       "1           ...                         0.037783              0.023285   \n",
       "2           ...                         0.010908              0.007078   \n",
       "3           ...                         0.038819              0.051850   \n",
       "\n",
       "   Iddq_Delta_Before[4]  Iddq_Delta_Before[5]  Iddq_Delta_Before[6]  \\\n",
       "0              0.039454              0.043954              0.044016   \n",
       "1              0.022145              0.025020              0.029022   \n",
       "2              0.010474              0.013895              0.003458   \n",
       "3              0.071856              0.061121              0.063913   \n",
       "\n",
       "   Iddq_Delta_Before[7]  Iddq_Delta_Before[8]  Iddq_Delta_Before[9]  \\\n",
       "0              0.031137              0.042144              0.043260   \n",
       "1              0.025850              0.027622              0.036445   \n",
       "2              0.014750              0.013858             -0.006185   \n",
       "3              0.068778              0.073643              0.072749   \n",
       "\n",
       "   Iddq_Delta_Before[10]  Iddq_Delta_Before_After  \n",
       "0               0.049668                 0.071149  \n",
       "1               0.023148                 0.034227  \n",
       "2               0.025038                 0.024555  \n",
       "3               0.062871                 0.069101  \n",
       "\n",
       "[4 rows x 55 columns]"
      ]
     },
     "execution_count": 36,
     "metadata": {},
     "output_type": "execute_result"
    }
   ],
   "source": [
    "tlhead.loc[:,tlhead.columns.str.contains('Iddq_D')]"
   ]
  },
  {
   "cell_type": "code",
   "execution_count": 54,
   "metadata": {},
   "outputs": [],
   "source": [
    "tl=pd.read_csv('/Users/kristofcoddens/Downloads/M82726.csv',skiprows=[1,2,3], low_memory=False, error_bad_lines=False,compression='gzip')"
   ]
  },
  {
   "cell_type": "code",
   "execution_count": 38,
   "metadata": {},
   "outputs": [
    {
     "data": {
      "text/html": [
       "<div>\n",
       "<style scoped>\n",
       "    .dataframe tbody tr th:only-of-type {\n",
       "        vertical-align: middle;\n",
       "    }\n",
       "\n",
       "    .dataframe tbody tr th {\n",
       "        vertical-align: top;\n",
       "    }\n",
       "\n",
       "    .dataframe thead th {\n",
       "        text-align: right;\n",
       "    }\n",
       "</style>\n",
       "<table border=\"1\" class=\"dataframe\">\n",
       "  <thead>\n",
       "    <tr style=\"text-align: right;\">\n",
       "      <th></th>\n",
       "      <th>Lot</th>\n",
       "      <th>Wafer</th>\n",
       "      <th>Lot/Wf</th>\n",
       "      <th>Chip-Nr</th>\n",
       "      <th>Lot/Wf/Ch</th>\n",
       "      <th>X-Coord.</th>\n",
       "      <th>Y-Coord.</th>\n",
       "      <th>M-Datum</th>\n",
       "      <th>Device</th>\n",
       "      <th>M-Progr.</th>\n",
       "      <th>...</th>\n",
       "      <th>RamRom_Program_InIddqMode_vVdecSet</th>\n",
       "      <th>RamRam_Program_InIddqMode_vVdecSet</th>\n",
       "      <th>HVAS</th>\n",
       "      <th>Hvas_Vdec_Voltage</th>\n",
       "      <th>TempSensorSum_fw</th>\n",
       "      <th>DieTimeStamp$</th>\n",
       "      <th>DieTestTime_#1</th>\n",
       "      <th>Tester$</th>\n",
       "      <th>Bindescription$</th>\n",
       "      <th>HardBin</th>\n",
       "    </tr>\n",
       "  </thead>\n",
       "  <tbody>\n",
       "    <tr>\n",
       "      <th>0</th>\n",
       "      <td>M82726</td>\n",
       "      <td>10</td>\n",
       "      <td>M82726/10</td>\n",
       "      <td>4</td>\n",
       "      <td>M82726/10/0004</td>\n",
       "      <td>84</td>\n",
       "      <td>-6</td>\n",
       "      <td>07.11.17 11:15:01</td>\n",
       "      <td>90360AAAE</td>\n",
       "      <td>PR35.005.07</td>\n",
       "      <td>...</td>\n",
       "      <td>NaN</td>\n",
       "      <td>NaN</td>\n",
       "      <td>-1.0</td>\n",
       "      <td>NaN</td>\n",
       "      <td>254.0</td>\n",
       "      <td>07-Nov-2017 08:11:19</td>\n",
       "      <td>1.27908</td>\n",
       "      <td>TEST0531</td>\n",
       "      <td>DutOkPass</td>\n",
       "      <td>1.0</td>\n",
       "    </tr>\n",
       "    <tr>\n",
       "      <th>1</th>\n",
       "      <td>M82726</td>\n",
       "      <td>10</td>\n",
       "      <td>M82726/10</td>\n",
       "      <td>5</td>\n",
       "      <td>M82726/10/0005</td>\n",
       "      <td>85</td>\n",
       "      <td>-7</td>\n",
       "      <td>07.11.17 11:15:01</td>\n",
       "      <td>90360AAAE</td>\n",
       "      <td>PR35.005.07</td>\n",
       "      <td>...</td>\n",
       "      <td>NaN</td>\n",
       "      <td>NaN</td>\n",
       "      <td>-1.0</td>\n",
       "      <td>NaN</td>\n",
       "      <td>255.0</td>\n",
       "      <td>07-Nov-2017 08:11:19</td>\n",
       "      <td>1.27908</td>\n",
       "      <td>TEST0531</td>\n",
       "      <td>DutOkPass</td>\n",
       "      <td>1.0</td>\n",
       "    </tr>\n",
       "    <tr>\n",
       "      <th>2</th>\n",
       "      <td>M82726</td>\n",
       "      <td>10</td>\n",
       "      <td>M82726/10</td>\n",
       "      <td>6</td>\n",
       "      <td>M82726/10/0006</td>\n",
       "      <td>84</td>\n",
       "      <td>-7</td>\n",
       "      <td>07.11.17 11:15:01</td>\n",
       "      <td>90360AAAE</td>\n",
       "      <td>PR35.005.07</td>\n",
       "      <td>...</td>\n",
       "      <td>NaN</td>\n",
       "      <td>NaN</td>\n",
       "      <td>-1.0</td>\n",
       "      <td>NaN</td>\n",
       "      <td>253.0</td>\n",
       "      <td>07-Nov-2017 08:11:19</td>\n",
       "      <td>1.27908</td>\n",
       "      <td>TEST0531</td>\n",
       "      <td>DutOkPass</td>\n",
       "      <td>1.0</td>\n",
       "    </tr>\n",
       "    <tr>\n",
       "      <th>3</th>\n",
       "      <td>M82726</td>\n",
       "      <td>10</td>\n",
       "      <td>M82726/10</td>\n",
       "      <td>7</td>\n",
       "      <td>M82726/10/0007</td>\n",
       "      <td>83</td>\n",
       "      <td>-6</td>\n",
       "      <td>07.11.17 11:15:01</td>\n",
       "      <td>90360AAAE</td>\n",
       "      <td>PR35.005.07</td>\n",
       "      <td>...</td>\n",
       "      <td>NaN</td>\n",
       "      <td>NaN</td>\n",
       "      <td>-1.0</td>\n",
       "      <td>NaN</td>\n",
       "      <td>254.0</td>\n",
       "      <td>07-Nov-2017 08:11:19</td>\n",
       "      <td>1.27908</td>\n",
       "      <td>TEST0531</td>\n",
       "      <td>DutOkPass</td>\n",
       "      <td>1.0</td>\n",
       "    </tr>\n",
       "    <tr>\n",
       "      <th>4</th>\n",
       "      <td>M82726</td>\n",
       "      <td>10</td>\n",
       "      <td>M82726/10</td>\n",
       "      <td>8</td>\n",
       "      <td>M82726/10/0008</td>\n",
       "      <td>82</td>\n",
       "      <td>-6</td>\n",
       "      <td>07.11.17 11:15:01</td>\n",
       "      <td>90360AAAE</td>\n",
       "      <td>PR35.005.07</td>\n",
       "      <td>...</td>\n",
       "      <td>NaN</td>\n",
       "      <td>NaN</td>\n",
       "      <td>-1.0</td>\n",
       "      <td>NaN</td>\n",
       "      <td>255.0</td>\n",
       "      <td>07-Nov-2017 08:11:19</td>\n",
       "      <td>1.27908</td>\n",
       "      <td>TEST0531</td>\n",
       "      <td>DutOkPass</td>\n",
       "      <td>1.0</td>\n",
       "    </tr>\n",
       "  </tbody>\n",
       "</table>\n",
       "<p>5 rows × 558 columns</p>\n",
       "</div>"
      ],
      "text/plain": [
       "      Lot  Wafer     Lot/Wf  Chip-Nr       Lot/Wf/Ch  X-Coord.  Y-Coord.  \\\n",
       "0  M82726     10  M82726/10        4  M82726/10/0004        84        -6   \n",
       "1  M82726     10  M82726/10        5  M82726/10/0005        85        -7   \n",
       "2  M82726     10  M82726/10        6  M82726/10/0006        84        -7   \n",
       "3  M82726     10  M82726/10        7  M82726/10/0007        83        -6   \n",
       "4  M82726     10  M82726/10        8  M82726/10/0008        82        -6   \n",
       "\n",
       "             M-Datum     Device     M-Progr.   ...     \\\n",
       "0  07.11.17 11:15:01  90360AAAE  PR35.005.07   ...      \n",
       "1  07.11.17 11:15:01  90360AAAE  PR35.005.07   ...      \n",
       "2  07.11.17 11:15:01  90360AAAE  PR35.005.07   ...      \n",
       "3  07.11.17 11:15:01  90360AAAE  PR35.005.07   ...      \n",
       "4  07.11.17 11:15:01  90360AAAE  PR35.005.07   ...      \n",
       "\n",
       "   RamRom_Program_InIddqMode_vVdecSet  RamRam_Program_InIddqMode_vVdecSet  \\\n",
       "0                                 NaN                                 NaN   \n",
       "1                                 NaN                                 NaN   \n",
       "2                                 NaN                                 NaN   \n",
       "3                                 NaN                                 NaN   \n",
       "4                                 NaN                                 NaN   \n",
       "\n",
       "   HVAS  Hvas_Vdec_Voltage  TempSensorSum_fw         DieTimeStamp$  \\\n",
       "0  -1.0                NaN             254.0  07-Nov-2017 08:11:19   \n",
       "1  -1.0                NaN             255.0  07-Nov-2017 08:11:19   \n",
       "2  -1.0                NaN             253.0  07-Nov-2017 08:11:19   \n",
       "3  -1.0                NaN             254.0  07-Nov-2017 08:11:19   \n",
       "4  -1.0                NaN             255.0  07-Nov-2017 08:11:19   \n",
       "\n",
       "  DieTestTime_#1   Tester$  Bindescription$  HardBin  \n",
       "0        1.27908  TEST0531        DutOkPass      1.0  \n",
       "1        1.27908  TEST0531        DutOkPass      1.0  \n",
       "2        1.27908  TEST0531        DutOkPass      1.0  \n",
       "3        1.27908  TEST0531        DutOkPass      1.0  \n",
       "4        1.27908  TEST0531        DutOkPass      1.0  \n",
       "\n",
       "[5 rows x 558 columns]"
      ]
     },
     "execution_count": 38,
     "metadata": {},
     "output_type": "execute_result"
    }
   ],
   "source": [
    "tl.head()"
   ]
  },
  {
   "cell_type": "code",
   "execution_count": 55,
   "metadata": {},
   "outputs": [],
   "source": [
    "iddqdf=tl[np.logical_and(tl['BIN']==1,tl['WAF']==9)]"
   ]
  },
  {
   "cell_type": "code",
   "execution_count": 56,
   "metadata": {},
   "outputs": [
    {
     "data": {
      "text/plain": [
       "Iddq_Delta_Before[1]       0.062871\n",
       "Iddq_Delta_Before[2]       0.095543\n",
       "Iddq_Delta_Before[3]       0.117487\n",
       "Iddq_Delta_Before[4]       0.138836\n",
       "Iddq_Delta_Before[5]       0.145010\n",
       "Iddq_Delta_Before[6]       0.068145\n",
       "Iddq_Delta_Before[7]       0.071421\n",
       "Iddq_Delta_Before[8]       0.099062\n",
       "Iddq_Delta_Before[9]       0.157675\n",
       "Iddq_Delta_Before[10]      0.063950\n",
       "Iddq_Delta_Before_After    0.072128\n",
       "dtype: float64"
      ]
     },
     "execution_count": 56,
     "metadata": {},
     "output_type": "execute_result"
    }
   ],
   "source": [
    "tliddq=iddqdf.loc[:,tl.columns.str.contains('Iddq_Delta_Before')]\n",
    "np.max(tliddq)"
   ]
  },
  {
   "cell_type": "code",
   "execution_count": 57,
   "metadata": {},
   "outputs": [
    {
     "data": {
      "text/plain": [
       "Iddq_Delta_Before[1]      -0.095381\n",
       "Iddq_Delta_Before[2]      -0.089182\n",
       "Iddq_Delta_Before[3]      -0.021383\n",
       "Iddq_Delta_Before[4]      -0.021430\n",
       "Iddq_Delta_Before[5]      -0.021212\n",
       "Iddq_Delta_Before[6]      -0.027727\n",
       "Iddq_Delta_Before[7]      -0.075965\n",
       "Iddq_Delta_Before[8]      -0.024555\n",
       "Iddq_Delta_Before[9]      -0.014994\n",
       "Iddq_Delta_Before[10]     -0.102772\n",
       "Iddq_Delta_Before_After   -0.037778\n",
       "dtype: float64"
      ]
     },
     "execution_count": 57,
     "metadata": {},
     "output_type": "execute_result"
    }
   ],
   "source": [
    "np.min(tliddq)"
   ]
  },
  {
   "cell_type": "code",
   "execution_count": 41,
   "metadata": {},
   "outputs": [
    {
     "data": {
      "text/plain": [
       "<seaborn.axisgrid.FacetGrid at 0x118ceffd0>"
      ]
     },
     "execution_count": 41,
     "metadata": {},
     "output_type": "execute_result"
    },
    {
     "data": {
      "image/png": "[encoded data removed]",
      "text/plain": [
       "<matplotlib.figure.Figure at 0x11c2ef160>"
      ]
     },
     "metadata": {},
     "output_type": "display_data"
    }
   ],
   "source": [
    "tliddq=pd.melt(tliddq,var_name='iddqmeas',value_name='iddqval')\n",
    "g = sns.FacetGrid(tliddq, col='iddqmeas',col_wrap=5)\n",
    "g.map(plt.hist,'iddqval',bins=50)"
   ]
  },
  {
   "cell_type": "code",
   "execution_count": 42,
   "metadata": {},
   "outputs": [],
   "source": [
    "iddqdf=iddqdf[['XPos','YPos','Iddq_Delta_Before[1]']]"
   ]
  },
  {
   "cell_type": "code",
   "execution_count": 43,
   "metadata": {},
   "outputs": [
    {
     "data": {
      "text/plain": [
       "(15647, 3)"
      ]
     },
     "execution_count": 43,
     "metadata": {},
     "output_type": "execute_result"
    }
   ],
   "source": [
    "iddqdf.shape"
   ]
  },
  {
   "cell_type": "code",
   "execution_count": 44,
   "metadata": {},
   "outputs": [],
   "source": [
    "iddqdf=iddqdf.dropna()"
   ]
  },
  {
   "cell_type": "code",
   "execution_count": 45,
   "metadata": {},
   "outputs": [
    {
     "data": {
      "text/plain": [
       "(7872, 3)"
      ]
     },
     "execution_count": 45,
     "metadata": {},
     "output_type": "execute_result"
    }
   ],
   "source": [
    "iddqdf.shape"
   ]
  },
  {
   "cell_type": "code",
   "execution_count": 46,
   "metadata": {},
   "outputs": [
    {
     "data": {
      "text/plain": [
       "<matplotlib.axes._subplots.AxesSubplot at 0x11c564908>"
      ]
     },
     "execution_count": 46,
     "metadata": {},
     "output_type": "execute_result"
    },
    {
     "data": {
      "image/png": "[encoded data removed]",
      "text/plain": [
       "<matplotlib.figure.Figure at 0x11c3594a8>"
      ]
     },
     "metadata": {},
     "output_type": "display_data"
    }
   ],
   "source": [
    "sns.distplot(iddqdf['Iddq_Delta_Before[1]'])"
   ]
  },
  {
   "cell_type": "code",
   "execution_count": 47,
   "metadata": {},
   "outputs": [],
   "source": [
    "def nniddq(xn,yn,rad,df):\n",
    "    dfc=df.copy()\n",
    "    dfc['r']=np.sqrt((dfc['XPos']-xn)**2+(dfc['YPos']-yn)**2)\n",
    "    dfc=dfc[dfc['r']<rad]\n",
    "    dfc['iddqs']=scale(dfc['Iddq_Delta_Before[1]'])\n",
    "    \n",
    "    return(dfc.loc[dfc['r']==0,'iddqs'].values)"
   ]
  },
  {
   "cell_type": "code",
   "execution_count": 48,
   "metadata": {},
   "outputs": [
    {
     "data": {
      "text/plain": [
       "array([-0.28454342])"
      ]
     },
     "execution_count": 48,
     "metadata": {},
     "output_type": "execute_result"
    }
   ],
   "source": [
    "nniddq(78,49,5,iddqdf)"
   ]
  },
  {
   "cell_type": "code",
   "execution_count": 49,
   "metadata": {},
   "outputs": [],
   "source": [
    "w=np.array(list(map(nniddq,iddqdf['XPos'],iddqdf['YPos'],repeat(5),repeat(iddqdf))))"
   ]
  },
  {
   "cell_type": "code",
   "execution_count": 50,
   "metadata": {},
   "outputs": [
    {
     "data": {
      "text/plain": [
       "(7872, 1)"
      ]
     },
     "execution_count": 50,
     "metadata": {},
     "output_type": "execute_result"
    }
   ],
   "source": [
    "w.shape"
   ]
  },
  {
   "cell_type": "code",
   "execution_count": 51,
   "metadata": {},
   "outputs": [
    {
     "data": {
      "text/plain": [
       "array([48])"
      ]
     },
     "execution_count": 51,
     "metadata": {},
     "output_type": "execute_result"
    }
   ],
   "source": [
    "sum(w<(-2.5))"
   ]
  },
  {
   "cell_type": "code",
   "execution_count": 52,
   "metadata": {},
   "outputs": [
    {
     "data": {
      "text/plain": [
       "array([50])"
      ]
     },
     "execution_count": 52,
     "metadata": {},
     "output_type": "execute_result"
    }
   ],
   "source": [
    "sum(w>2.5)"
   ]
  },
  {
   "cell_type": "code",
   "execution_count": null,
   "metadata": {},
   "outputs": [],
   "source": []
  }
 ],
 "metadata": {
  "kernelspec": {
   "display_name": "Python 3",
   "language": "python",
   "name": "python3"
  },
  "language_info": {
   "codemirror_mode": {
    "name": "ipython",
    "version": 3
   },
   "file_extension": ".py",
   "mimetype": "text/x-python",
   "name": "python",
   "nbconvert_exporter": "python",
   "pygments_lexer": "ipython3",
   "version": "3.6.4"
  }
 },
 "nbformat": 4,
 "nbformat_minor": 2
}
