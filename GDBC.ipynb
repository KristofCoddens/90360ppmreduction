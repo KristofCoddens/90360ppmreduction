{
 "cells": [
  {
   "cell_type": "code",
   "execution_count": 1,
   "metadata": {},
   "outputs": [],
   "source": [
    "import pandas as pd\n",
    "import numpy as np\n",
    "from itertools import repeat\n",
    "from scipy.sparse import coo_matrix\n",
    "import scipy\n",
    "import scipy.signal\n",
    "from functools import reduce"
   ]
  },
  {
   "cell_type": "code",
   "execution_count": 2,
   "metadata": {},
   "outputs": [
    {
     "name": "stdout",
     "output_type": "stream",
     "text": [
      "CPU times: user 3 µs, sys: 1 µs, total: 4 µs\n",
      "Wall time: 7.87 µs\n"
     ]
    }
   ],
   "source": [
    "%time\n",
    "tl=pd.read_csv('/Users/kristofcoddens/Downloads/M82726bck.csv',skiprows=[1,2,3], low_memory=False, error_bad_lines=False,compression='gzip')"
   ]
  },
  {
   "cell_type": "code",
   "execution_count": 3,
   "metadata": {},
   "outputs": [],
   "source": [
    "def countnnfails(wfr,df):\n",
    "    dfc = df[df['Wafer'] == wfr].copy()\n",
    "    row = np.array(dfc['XPos'])\n",
    "    col = np.array(dfc['YPos'])\n",
    "    data = np.array(np.logical_and(dfc['BIN']>349,dfc['BIN']<500))\n",
    "    data = data.astype(int) #Convert bool to int\n",
    "    spm = coo_matrix((data, (row, col))).toarray()\n",
    "    \n",
    "    kernel = np.array([[1,1,1],[1,0,1],[1,1,1]])\n",
    "    nncount = scipy.signal.convolve2d(spm, kernel, 'same')\n",
    "    \n",
    "    nndfx = np.transpose(np.nonzero(nncount))[:,0]\n",
    "    nndfy = np.transpose(np.nonzero(nncount))[:,1]\n",
    "    nndfnncount = np.ravel(nncount)\n",
    "    nndfnncount = nndfnncount[np.nonzero(nndfnncount)]\n",
    "    \n",
    "    nndf = pd.DataFrame({'x' : pd.Series(nndfx),\n",
    "                         'y' : pd.Series(nndfy),\n",
    "                         'nncount' : pd.Series(nndfnncount)})\n",
    "\n",
    "    nndf['Wafer'] = wfr\n",
    "    \n",
    "    return(nndf)\n",
    "\n"
   ]
  },
  {
   "cell_type": "code",
   "execution_count": 4,
   "metadata": {},
   "outputs": [],
   "source": [
    "tlu=tl[['XPos','YPos','Wafer','BIN']].groupby(['XPos','YPos','Wafer']).head(1)"
   ]
  },
  {
   "cell_type": "code",
   "execution_count": 5,
   "metadata": {},
   "outputs": [],
   "source": [
    "waferlist=tlu['Wafer'].unique()"
   ]
  },
  {
   "cell_type": "code",
   "execution_count": 6,
   "metadata": {},
   "outputs": [
    {
     "name": "stdout",
     "output_type": "stream",
     "text": [
      "CPU times: user 4 µs, sys: 5 µs, total: 9 µs\n",
      "Wall time: 26.7 µs\n"
     ]
    }
   ],
   "source": [
    "%time\n",
    "sp = list(map(countnnfails,waferlist,repeat(tlu)))"
   ]
  },
  {
   "cell_type": "code",
   "execution_count": 7,
   "metadata": {},
   "outputs": [],
   "source": [
    "spc = pd.concat(sp)"
   ]
  },
  {
   "cell_type": "code",
   "execution_count": 8,
   "metadata": {},
   "outputs": [
    {
     "data": {
      "text/plain": [
       "4     440\n",
       "3     330\n",
       "25    302\n",
       "12    282\n",
       "2     263\n",
       "13    239\n",
       "11    231\n",
       "6     230\n",
       "5     229\n",
       "10    228\n",
       "14    213\n",
       "9     212\n",
       "8     204\n",
       "7     200\n",
       "17    193\n",
       "23    176\n",
       "22    173\n",
       "1     165\n",
       "24    164\n",
       "19    155\n",
       "20    149\n",
       "15    144\n",
       "21    141\n",
       "18    127\n",
       "16    125\n",
       "Name: Wafer, dtype: int64"
      ]
     },
     "execution_count": 8,
     "metadata": {},
     "output_type": "execute_result"
    }
   ],
   "source": [
    "spc['Wafer'].value_counts()"
   ]
  },
  {
   "cell_type": "code",
   "execution_count": 10,
   "metadata": {},
   "outputs": [
    {
     "data": {
      "text/html": [
       "<div>\n",
       "<style scoped>\n",
       "    .dataframe tbody tr th:only-of-type {\n",
       "        vertical-align: middle;\n",
       "    }\n",
       "\n",
       "    .dataframe tbody tr th {\n",
       "        vertical-align: top;\n",
       "    }\n",
       "\n",
       "    .dataframe thead th {\n",
       "        text-align: right;\n",
       "    }\n",
       "</style>\n",
       "<table border=\"1\" class=\"dataframe\">\n",
       "  <thead>\n",
       "    <tr style=\"text-align: right;\">\n",
       "      <th></th>\n",
       "      <th>nncount</th>\n",
       "      <th>x</th>\n",
       "      <th>y</th>\n",
       "      <th>Wafer</th>\n",
       "    </tr>\n",
       "  </thead>\n",
       "  <tbody>\n",
       "    <tr>\n",
       "      <th>16</th>\n",
       "      <td>1</td>\n",
       "      <td>21</td>\n",
       "      <td>25</td>\n",
       "      <td>10</td>\n",
       "    </tr>\n",
       "    <tr>\n",
       "      <th>13</th>\n",
       "      <td>1</td>\n",
       "      <td>21</td>\n",
       "      <td>25</td>\n",
       "      <td>11</td>\n",
       "    </tr>\n",
       "  </tbody>\n",
       "</table>\n",
       "</div>"
      ],
      "text/plain": [
       "    nncount   x   y  Wafer\n",
       "16        1  21  25     10\n",
       "13        1  21  25     11"
      ]
     },
     "execution_count": 10,
     "metadata": {},
     "output_type": "execute_result"
    }
   ],
   "source": [
    "spc[np.logical_and(spc['x']==21,spc['y']==25)]"
   ]
  },
  {
   "cell_type": "code",
   "execution_count": 11,
   "metadata": {},
   "outputs": [
    {
     "data": {
      "text/plain": [
       "nncount    int64\n",
       "x          int64\n",
       "y          int64\n",
       "Wafer      int64\n",
       "dtype: object"
      ]
     },
     "execution_count": 11,
     "metadata": {},
     "output_type": "execute_result"
    }
   ],
   "source": [
    "spc.dtypes"
   ]
  },
  {
   "cell_type": "code",
   "execution_count": null,
   "metadata": {},
   "outputs": [],
   "source": []
  }
 ],
 "metadata": {
  "kernelspec": {
   "display_name": "Python 3",
   "language": "python",
   "name": "python3"
  },
  "language_info": {
   "codemirror_mode": {
    "name": "ipython",
    "version": 3
   },
   "file_extension": ".py",
   "mimetype": "text/x-python",
   "name": "python",
   "nbconvert_exporter": "python",
   "pygments_lexer": "ipython3",
   "version": "3.6.4"
  }
 },
 "nbformat": 4,
 "nbformat_minor": 2
}
