{
 "cells": [
  {
   "cell_type": "code",
   "execution_count": 1,
   "metadata": {},
   "outputs": [],
   "source": [
    "import pandas as pd\n",
    "import numpy as np\n",
    "\n",
    "tl=pd.read_csv('../Rscripts/data/90360AAAE_PR35_M65705_11_005.03.csv',skiprows=[1,2,3], low_memory=False, error_bad_lines=False)"
   ]
  },
  {
   "cell_type": "code",
   "execution_count": 2,
   "metadata": {},
   "outputs": [
    {
     "data": {
      "text/html": [
       "<div>\n",
       "<style scoped>\n",
       "    .dataframe tbody tr th:only-of-type {\n",
       "        vertical-align: middle;\n",
       "    }\n",
       "\n",
       "    .dataframe tbody tr th {\n",
       "        vertical-align: top;\n",
       "    }\n",
       "\n",
       "    .dataframe thead th {\n",
       "        text-align: right;\n",
       "    }\n",
       "</style>\n",
       "<table border=\"1\" class=\"dataframe\">\n",
       "  <thead>\n",
       "    <tr style=\"text-align: right;\">\n",
       "      <th></th>\n",
       "      <th>dlog_version</th>\n",
       "      <th>setup time</th>\n",
       "      <th>mode code</th>\n",
       "      <th>lot id</th>\n",
       "      <th>part type</th>\n",
       "      <th>sublot id</th>\n",
       "      <th>facility id</th>\n",
       "      <th>start time</th>\n",
       "      <th>node name</th>\n",
       "      <th>datafile path</th>\n",
       "      <th>...</th>\n",
       "      <th>MatSlopeNormal50</th>\n",
       "      <th>MatSlopeClampHigh50</th>\n",
       "      <th>Ram_With_Rom_Program_Iddq_Mode</th>\n",
       "      <th>Ram_With_Ram_Program_Iddq_Mode</th>\n",
       "      <th>RamRom_Program_InIddqMode_vVdecSet</th>\n",
       "      <th>RamRam_Program_InIddqMode_vVdecSet</th>\n",
       "      <th>HVAS</th>\n",
       "      <th>Hvas_Vdec_Voltage</th>\n",
       "      <th>TempSensorSum_fw</th>\n",
       "      <th>Unnamed: 567</th>\n",
       "    </tr>\n",
       "  </thead>\n",
       "  <tbody>\n",
       "    <tr>\n",
       "      <th>0</th>\n",
       "      <td>DAT_LINUX</td>\n",
       "      <td>2018-02-06T16:30:20.970Z</td>\n",
       "      <td>PROD</td>\n",
       "      <td>M65705</td>\n",
       "      <td>NaN</td>\n",
       "      <td>99</td>\n",
       "      <td>NaN</td>\n",
       "      <td>NaN</td>\n",
       "      <td>Nena</td>\n",
       "      <td>/mnt/linuxtesters/testlog/90360AAAE.M65705/PR3...</td>\n",
       "      <td>...</td>\n",
       "      <td>NaN</td>\n",
       "      <td>NaN</td>\n",
       "      <td>NaN</td>\n",
       "      <td>NaN</td>\n",
       "      <td>NaN</td>\n",
       "      <td>NaN</td>\n",
       "      <td>NaN</td>\n",
       "      <td>NaN</td>\n",
       "      <td>255.0</td>\n",
       "      <td>NaN</td>\n",
       "    </tr>\n",
       "    <tr>\n",
       "      <th>1</th>\n",
       "      <td>DAT_LINUX</td>\n",
       "      <td>2018-02-06T16:30:20.970Z</td>\n",
       "      <td>PROD</td>\n",
       "      <td>M65705</td>\n",
       "      <td>NaN</td>\n",
       "      <td>99</td>\n",
       "      <td>NaN</td>\n",
       "      <td>NaN</td>\n",
       "      <td>Nena</td>\n",
       "      <td>/mnt/linuxtesters/testlog/90360AAAE.M65705/PR3...</td>\n",
       "      <td>...</td>\n",
       "      <td>NaN</td>\n",
       "      <td>NaN</td>\n",
       "      <td>NaN</td>\n",
       "      <td>NaN</td>\n",
       "      <td>NaN</td>\n",
       "      <td>NaN</td>\n",
       "      <td>NaN</td>\n",
       "      <td>NaN</td>\n",
       "      <td>255.0</td>\n",
       "      <td>NaN</td>\n",
       "    </tr>\n",
       "    <tr>\n",
       "      <th>2</th>\n",
       "      <td>DAT_LINUX</td>\n",
       "      <td>2018-02-06T16:30:20.970Z</td>\n",
       "      <td>PROD</td>\n",
       "      <td>M65705</td>\n",
       "      <td>NaN</td>\n",
       "      <td>99</td>\n",
       "      <td>NaN</td>\n",
       "      <td>NaN</td>\n",
       "      <td>Nena</td>\n",
       "      <td>/mnt/linuxtesters/testlog/90360AAAE.M65705/PR3...</td>\n",
       "      <td>...</td>\n",
       "      <td>NaN</td>\n",
       "      <td>NaN</td>\n",
       "      <td>NaN</td>\n",
       "      <td>NaN</td>\n",
       "      <td>NaN</td>\n",
       "      <td>NaN</td>\n",
       "      <td>NaN</td>\n",
       "      <td>NaN</td>\n",
       "      <td>255.0</td>\n",
       "      <td>NaN</td>\n",
       "    </tr>\n",
       "    <tr>\n",
       "      <th>3</th>\n",
       "      <td>DAT_LINUX</td>\n",
       "      <td>2018-02-06T16:30:20.970Z</td>\n",
       "      <td>PROD</td>\n",
       "      <td>M65705</td>\n",
       "      <td>NaN</td>\n",
       "      <td>99</td>\n",
       "      <td>NaN</td>\n",
       "      <td>NaN</td>\n",
       "      <td>Nena</td>\n",
       "      <td>/mnt/linuxtesters/testlog/90360AAAE.M65705/PR3...</td>\n",
       "      <td>...</td>\n",
       "      <td>NaN</td>\n",
       "      <td>NaN</td>\n",
       "      <td>NaN</td>\n",
       "      <td>NaN</td>\n",
       "      <td>NaN</td>\n",
       "      <td>NaN</td>\n",
       "      <td>NaN</td>\n",
       "      <td>NaN</td>\n",
       "      <td>254.0</td>\n",
       "      <td>NaN</td>\n",
       "    </tr>\n",
       "    <tr>\n",
       "      <th>4</th>\n",
       "      <td>DAT_LINUX</td>\n",
       "      <td>2018-02-06T16:30:20.970Z</td>\n",
       "      <td>PROD</td>\n",
       "      <td>M65705</td>\n",
       "      <td>NaN</td>\n",
       "      <td>99</td>\n",
       "      <td>NaN</td>\n",
       "      <td>NaN</td>\n",
       "      <td>Nena</td>\n",
       "      <td>/mnt/linuxtesters/testlog/90360AAAE.M65705/PR3...</td>\n",
       "      <td>...</td>\n",
       "      <td>NaN</td>\n",
       "      <td>NaN</td>\n",
       "      <td>NaN</td>\n",
       "      <td>NaN</td>\n",
       "      <td>NaN</td>\n",
       "      <td>NaN</td>\n",
       "      <td>NaN</td>\n",
       "      <td>NaN</td>\n",
       "      <td>254.0</td>\n",
       "      <td>NaN</td>\n",
       "    </tr>\n",
       "  </tbody>\n",
       "</table>\n",
       "<p>5 rows × 568 columns</p>\n",
       "</div>"
      ],
      "text/plain": [
       "  dlog_version                setup time mode code  lot id  part type  \\\n",
       "0    DAT_LINUX  2018-02-06T16:30:20.970Z      PROD  M65705        NaN   \n",
       "1    DAT_LINUX  2018-02-06T16:30:20.970Z      PROD  M65705        NaN   \n",
       "2    DAT_LINUX  2018-02-06T16:30:20.970Z      PROD  M65705        NaN   \n",
       "3    DAT_LINUX  2018-02-06T16:30:20.970Z      PROD  M65705        NaN   \n",
       "4    DAT_LINUX  2018-02-06T16:30:20.970Z      PROD  M65705        NaN   \n",
       "\n",
       "   sublot id  facility id  start time node name  \\\n",
       "0         99          NaN         NaN      Nena   \n",
       "1         99          NaN         NaN      Nena   \n",
       "2         99          NaN         NaN      Nena   \n",
       "3         99          NaN         NaN      Nena   \n",
       "4         99          NaN         NaN      Nena   \n",
       "\n",
       "                                       datafile path      ...       \\\n",
       "0  /mnt/linuxtesters/testlog/90360AAAE.M65705/PR3...      ...        \n",
       "1  /mnt/linuxtesters/testlog/90360AAAE.M65705/PR3...      ...        \n",
       "2  /mnt/linuxtesters/testlog/90360AAAE.M65705/PR3...      ...        \n",
       "3  /mnt/linuxtesters/testlog/90360AAAE.M65705/PR3...      ...        \n",
       "4  /mnt/linuxtesters/testlog/90360AAAE.M65705/PR3...      ...        \n",
       "\n",
       "   MatSlopeNormal50 MatSlopeClampHigh50 Ram_With_Rom_Program_Iddq_Mode  \\\n",
       "0               NaN                 NaN                            NaN   \n",
       "1               NaN                 NaN                            NaN   \n",
       "2               NaN                 NaN                            NaN   \n",
       "3               NaN                 NaN                            NaN   \n",
       "4               NaN                 NaN                            NaN   \n",
       "\n",
       "   Ram_With_Ram_Program_Iddq_Mode  RamRom_Program_InIddqMode_vVdecSet  \\\n",
       "0                             NaN                                 NaN   \n",
       "1                             NaN                                 NaN   \n",
       "2                             NaN                                 NaN   \n",
       "3                             NaN                                 NaN   \n",
       "4                             NaN                                 NaN   \n",
       "\n",
       "   RamRam_Program_InIddqMode_vVdecSet  HVAS  Hvas_Vdec_Voltage  \\\n",
       "0                                 NaN   NaN                NaN   \n",
       "1                                 NaN   NaN                NaN   \n",
       "2                                 NaN   NaN                NaN   \n",
       "3                                 NaN   NaN                NaN   \n",
       "4                                 NaN   NaN                NaN   \n",
       "\n",
       "   TempSensorSum_fw  Unnamed: 567  \n",
       "0             255.0           NaN  \n",
       "1             255.0           NaN  \n",
       "2             255.0           NaN  \n",
       "3             254.0           NaN  \n",
       "4             254.0           NaN  \n",
       "\n",
       "[5 rows x 568 columns]"
      ]
     },
     "execution_count": 2,
     "metadata": {},
     "output_type": "execute_result"
    }
   ],
   "source": [
    "tl.head()"
   ]
  },
  {
   "cell_type": "markdown",
   "metadata": {},
   "source": [
    "Check how many duplicates there are in the data frame. To run the GDBC (Good Die Bad Cluster) algorithm we want to make sure we have 1 unique x, y, bincode combination."
   ]
  },
  {
   "cell_type": "code",
   "execution_count": 3,
   "metadata": {},
   "outputs": [
    {
     "data": {
      "text/plain": [
       "139"
      ]
     },
     "execution_count": 3,
     "metadata": {},
     "output_type": "execute_result"
    }
   ],
   "source": [
    "gt1=tl[['x coord','y coord',\"BIN\"]].groupby(['x coord','y coord']).size()>1\n",
    "sum(gt1)"
   ]
  },
  {
   "cell_type": "markdown",
   "metadata": {},
   "source": [
    "Now group by x and y coordinates and select only the first one to create the unique x, y, bincode combination."
   ]
  },
  {
   "cell_type": "code",
   "execution_count": 4,
   "metadata": {},
   "outputs": [],
   "source": [
    "tlu=tl[['x coord','y coord',\"BIN\"]].groupby(['x coord','y coord']).head(1)"
   ]
  },
  {
   "cell_type": "markdown",
   "metadata": {},
   "source": [
    "Check that we have a unique combination."
   ]
  },
  {
   "cell_type": "code",
   "execution_count": 5,
   "metadata": {},
   "outputs": [
    {
     "data": {
      "text/plain": [
       "0"
      ]
     },
     "execution_count": 5,
     "metadata": {},
     "output_type": "execute_result"
    }
   ],
   "source": [
    "gt1=tlu[['x coord','y coord',\"BIN\"]].groupby(['x coord','y coord']).size()>1\n",
    "sum(gt1)"
   ]
  },
  {
   "cell_type": "code",
   "execution_count": 9,
   "metadata": {},
   "outputs": [],
   "source": [
    "def countnnfails(xnn,ynn,df):\n",
    "    dfc1=df['x coord']>=xnn-1\n",
    "    dfc2=df['x coord']<=xnn+1\n",
    "    dfc3=df['y coord']>=ynn-1\n",
    "    dfc4=df['y coord']<=ynn+1\n",
    "    dfc5=np.logical_or(df['x coord']!=xnn,df['y coord']!=ynn)\n",
    "    \n",
    "    dfsub=df[['BIN']][dfc1 & dfc2 & dfc3 & dfc4 & dfc5]\n",
    "    \n",
    "    return(sum(np.logical_and(dfsub['BIN']>349,dfsub['BIN']<500)))"
   ]
  },
  {
   "cell_type": "code",
   "execution_count": 10,
   "metadata": {},
   "outputs": [],
   "source": [
    "gdbc=tlu.apply(lambda x: countnnfails(x['x coord'],x['y coord'],tlu),axis=1)"
   ]
  },
  {
   "cell_type": "code",
   "execution_count": 11,
   "metadata": {},
   "outputs": [
    {
     "data": {
      "text/plain": [
       "0    7314\n",
       "1     472\n",
       "2      90\n",
       "3      21\n",
       "4       6\n",
       "5       1\n",
       "dtype: int64"
      ]
     },
     "execution_count": 11,
     "metadata": {},
     "output_type": "execute_result"
    }
   ],
   "source": [
    "gdbc.value_counts()"
   ]
  },
  {
   "cell_type": "code",
   "execution_count": 12,
   "metadata": {},
   "outputs": [],
   "source": [
    "crs=pd.DataFrame({'x coord' : pd.Series([40, 60, 79, 95, 40]),\n",
    "                   'y coord' : pd.Series([17, 15, 67, 21, 12]),\n",
    "                   'cr'      : pd.Series([1,1,1,1,1])})\n",
    "                                         "
   ]
  },
  {
   "cell_type": "code",
   "execution_count": 13,
   "metadata": {},
   "outputs": [
    {
     "data": {
      "text/html": [
       "<div>\n",
       "<style scoped>\n",
       "    .dataframe tbody tr th:only-of-type {\n",
       "        vertical-align: middle;\n",
       "    }\n",
       "\n",
       "    .dataframe tbody tr th {\n",
       "        vertical-align: top;\n",
       "    }\n",
       "\n",
       "    .dataframe thead th {\n",
       "        text-align: right;\n",
       "    }\n",
       "</style>\n",
       "<table border=\"1\" class=\"dataframe\">\n",
       "  <thead>\n",
       "    <tr style=\"text-align: right;\">\n",
       "      <th></th>\n",
       "      <th>cr</th>\n",
       "      <th>x coord</th>\n",
       "      <th>y coord</th>\n",
       "    </tr>\n",
       "  </thead>\n",
       "  <tbody>\n",
       "    <tr>\n",
       "      <th>0</th>\n",
       "      <td>1</td>\n",
       "      <td>40</td>\n",
       "      <td>17</td>\n",
       "    </tr>\n",
       "    <tr>\n",
       "      <th>1</th>\n",
       "      <td>1</td>\n",
       "      <td>60</td>\n",
       "      <td>15</td>\n",
       "    </tr>\n",
       "    <tr>\n",
       "      <th>2</th>\n",
       "      <td>1</td>\n",
       "      <td>79</td>\n",
       "      <td>67</td>\n",
       "    </tr>\n",
       "    <tr>\n",
       "      <th>3</th>\n",
       "      <td>1</td>\n",
       "      <td>95</td>\n",
       "      <td>21</td>\n",
       "    </tr>\n",
       "    <tr>\n",
       "      <th>4</th>\n",
       "      <td>1</td>\n",
       "      <td>40</td>\n",
       "      <td>12</td>\n",
       "    </tr>\n",
       "  </tbody>\n",
       "</table>\n",
       "</div>"
      ],
      "text/plain": [
       "   cr  x coord  y coord\n",
       "0   1       40       17\n",
       "1   1       60       15\n",
       "2   1       79       67\n",
       "3   1       95       21\n",
       "4   1       40       12"
      ]
     },
     "execution_count": 13,
     "metadata": {},
     "output_type": "execute_result"
    }
   ],
   "source": [
    "crs"
   ]
  },
  {
   "cell_type": "code",
   "execution_count": 14,
   "metadata": {},
   "outputs": [],
   "source": [
    "tlu['gdbc']=gdbc\n",
    "\n",
    "dfm=pd.merge(tlu,crs,how=\"left\")"
   ]
  },
  {
   "cell_type": "code",
   "execution_count": 15,
   "metadata": {},
   "outputs": [],
   "source": [
    "dfm=dfm.fillna(0)"
   ]
  },
  {
   "cell_type": "code",
   "execution_count": 16,
   "metadata": {},
   "outputs": [
    {
     "data": {
      "text/plain": [
       "0.0    7899\n",
       "1.0       5\n",
       "Name: cr, dtype: int64"
      ]
     },
     "execution_count": 16,
     "metadata": {},
     "output_type": "execute_result"
    }
   ],
   "source": [
    "dfm['cr'].value_counts()"
   ]
  },
  {
   "cell_type": "code",
   "execution_count": 17,
   "metadata": {},
   "outputs": [
    {
     "data": {
      "text/html": [
       "<div>\n",
       "<style scoped>\n",
       "    .dataframe tbody tr th:only-of-type {\n",
       "        vertical-align: middle;\n",
       "    }\n",
       "\n",
       "    .dataframe tbody tr th {\n",
       "        vertical-align: top;\n",
       "    }\n",
       "\n",
       "    .dataframe thead th {\n",
       "        text-align: right;\n",
       "    }\n",
       "</style>\n",
       "<table border=\"1\" class=\"dataframe\">\n",
       "  <thead>\n",
       "    <tr style=\"text-align: right;\">\n",
       "      <th></th>\n",
       "      <th>x coord</th>\n",
       "      <th>y coord</th>\n",
       "      <th>cr</th>\n",
       "      <th>gdbc</th>\n",
       "    </tr>\n",
       "  </thead>\n",
       "  <tbody>\n",
       "    <tr>\n",
       "      <th>513</th>\n",
       "      <td>60</td>\n",
       "      <td>15</td>\n",
       "      <td>1.0</td>\n",
       "      <td>1</td>\n",
       "    </tr>\n",
       "    <tr>\n",
       "      <th>587</th>\n",
       "      <td>40</td>\n",
       "      <td>12</td>\n",
       "      <td>1.0</td>\n",
       "      <td>0</td>\n",
       "    </tr>\n",
       "    <tr>\n",
       "      <th>699</th>\n",
       "      <td>40</td>\n",
       "      <td>17</td>\n",
       "      <td>1.0</td>\n",
       "      <td>1</td>\n",
       "    </tr>\n",
       "    <tr>\n",
       "      <th>1080</th>\n",
       "      <td>95</td>\n",
       "      <td>21</td>\n",
       "      <td>1.0</td>\n",
       "      <td>2</td>\n",
       "    </tr>\n",
       "    <tr>\n",
       "      <th>6353</th>\n",
       "      <td>79</td>\n",
       "      <td>67</td>\n",
       "      <td>1.0</td>\n",
       "      <td>2</td>\n",
       "    </tr>\n",
       "  </tbody>\n",
       "</table>\n",
       "</div>"
      ],
      "text/plain": [
       "      x coord  y coord   cr  gdbc\n",
       "513        60       15  1.0     1\n",
       "587        40       12  1.0     0\n",
       "699        40       17  1.0     1\n",
       "1080       95       21  1.0     2\n",
       "6353       79       67  1.0     2"
      ]
     },
     "execution_count": 17,
     "metadata": {},
     "output_type": "execute_result"
    }
   ],
   "source": [
    "dfm[['x coord','y coord','cr','gdbc']][dfm['cr']==1]"
   ]
  },
  {
   "cell_type": "code",
   "execution_count": 18,
   "metadata": {},
   "outputs": [
    {
     "data": {
      "text/plain": [
       "cr   gdbc\n",
       "0.0  0       7313\n",
       "     1        470\n",
       "     2         88\n",
       "     3         21\n",
       "     4          6\n",
       "     5          1\n",
       "1.0  0          1\n",
       "     1          2\n",
       "     2          2\n",
       "dtype: int64"
      ]
     },
     "execution_count": 18,
     "metadata": {},
     "output_type": "execute_result"
    }
   ],
   "source": [
    "dfm.groupby(['cr','gdbc']).size()"
   ]
  },
  {
   "cell_type": "code",
   "execution_count": 19,
   "metadata": {},
   "outputs": [
    {
     "data": {
      "text/plain": [
       "590"
      ]
     },
     "execution_count": 19,
     "metadata": {},
     "output_type": "execute_result"
    }
   ],
   "source": [
    "gdbc[gdbc>0].count()"
   ]
  },
  {
   "cell_type": "code",
   "execution_count": null,
   "metadata": {},
   "outputs": [],
   "source": []
  }
 ],
 "metadata": {
  "kernelspec": {
   "display_name": "Python 3",
   "language": "python",
   "name": "python3"
  },
  "language_info": {
   "codemirror_mode": {
    "name": "ipython",
    "version": 3
   },
   "file_extension": ".py",
   "mimetype": "text/x-python",
   "name": "python",
   "nbconvert_exporter": "python",
   "pygments_lexer": "ipython3",
   "version": "3.6.4"
  }
 },
 "nbformat": 4,
 "nbformat_minor": 2
}
