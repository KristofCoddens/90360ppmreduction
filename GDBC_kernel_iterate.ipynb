{
 "cells": [
  {
   "cell_type": "code",
   "execution_count": 75,
   "metadata": {},
   "outputs": [],
   "source": [
    "import pandas as pd\n",
    "import numpy as np\n",
    "from itertools import repeat\n",
    "from scipy.sparse import coo_matrix\n",
    "import scipy\n",
    "import scipy.signal\n",
    "from functools import reduce"
   ]
  },
  {
   "cell_type": "code",
   "execution_count": 76,
   "metadata": {},
   "outputs": [
    {
     "name": "stdout",
     "output_type": "stream",
     "text": [
      "CPU times: user 6 µs, sys: 6 µs, total: 12 µs\n",
      "Wall time: 26.7 µs\n"
     ]
    }
   ],
   "source": [
    "%time\n",
    "tl=pd.read_csv('/Users/kristofcoddens/Downloads/M82726bck.csv',skiprows=[1,2,3], low_memory=False, error_bad_lines=False,compression='gzip')"
   ]
  },
  {
   "cell_type": "code",
   "execution_count": 77,
   "metadata": {},
   "outputs": [],
   "source": [
    "def countnnfails(wfr,df):\n",
    "    dfc = df[df['Wafer'] == wfr].copy()\n",
    "    row = np.array(dfc['XPos'])\n",
    "    col = np.array(dfc['YPos'])\n",
    "    data = np.array(np.logical_and(dfc['BIN']>349,dfc['BIN']<500))\n",
    "    data = data.astype(int) #Convert bool to int\n",
    "    spm = coo_matrix((data, (row, col))).toarray()\n",
    "    \n",
    "    kernel = np.array([[1,1,1],[1,0,1],[1,1,1]])\n",
    "    nncount = scipy.signal.convolve2d(spm, kernel, 'same')\n",
    "    \n",
    "    nndfx = np.transpose(np.nonzero(nncount))[:,0]\n",
    "    nndfx[np.isnan(nndfx)] = 0\n",
    "    nndfy = np.transpose(np.nonzero(nncount))[:,1]\n",
    "    nndfy[np.isnan(nndfy)] = 0\n",
    "    nndfnncount = np.ravel(nncount)\n",
    "    nndfnncount = nndfnncount[np.nonzero(nndfnncount)]\n",
    "    \n",
    "    nndf = pd.DataFrame({'x' : pd.Series(nndfx),\n",
    "                         'y' : pd.Series(nndfy),\n",
    "                         'nncount' : pd.Series(nndfnncount)})\n",
    "    \n",
    "    nndf = nndf.fillna(0)\n",
    "    nndf['x'] = nndf['x'].astype('int32')\n",
    "    nndf['y'] = nndf['y'].astype('int32')\n",
    "    \n",
    "    nndf['Wafer'] = wfr\n",
    "    \n",
    "    return(nndf)\n",
    "\n"
   ]
  },
  {
   "cell_type": "code",
   "execution_count": 78,
   "metadata": {},
   "outputs": [],
   "source": [
    "tlu=tl[['XPos','YPos','Wafer','BIN']].groupby(['XPos','YPos','Wafer']).head(1)"
   ]
  },
  {
   "cell_type": "code",
   "execution_count": 79,
   "metadata": {},
   "outputs": [],
   "source": [
    "waferlist=tlu['Wafer'].unique()"
   ]
  },
  {
   "cell_type": "code",
   "execution_count": 80,
   "metadata": {},
   "outputs": [
    {
     "name": "stdout",
     "output_type": "stream",
     "text": [
      "CPU times: user 6 µs, sys: 6 µs, total: 12 µs\n",
      "Wall time: 30.3 µs\n"
     ]
    }
   ],
   "source": [
    "%time\n",
    "sp = list(map(countnnfails,waferlist,repeat(tlu)))"
   ]
  },
  {
   "cell_type": "code",
   "execution_count": 73,
   "metadata": {},
   "outputs": [],
   "source": [
    "spc = pd.concat(sp)"
   ]
  },
  {
   "cell_type": "code",
   "execution_count": 74,
   "metadata": {},
   "outputs": [
    {
     "data": {
      "text/plain": [
       "4     440\n",
       "3     330\n",
       "25    302\n",
       "12    282\n",
       "2     263\n",
       "13    239\n",
       "11    231\n",
       "6     230\n",
       "5     229\n",
       "10    228\n",
       "14    213\n",
       "9     212\n",
       "8     204\n",
       "7     200\n",
       "17    193\n",
       "23    176\n",
       "22    173\n",
       "1     165\n",
       "24    164\n",
       "19    155\n",
       "20    149\n",
       "15    144\n",
       "21    141\n",
       "18    127\n",
       "16    125\n",
       "Name: Wafer, dtype: int64"
      ]
     },
     "execution_count": 74,
     "metadata": {},
     "output_type": "execute_result"
    }
   ],
   "source": [
    "spc['Wafer'].value_counts()"
   ]
  },
  {
   "cell_type": "code",
   "execution_count": null,
   "metadata": {},
   "outputs": [],
   "source": []
  }
 ],
 "metadata": {
  "kernelspec": {
   "display_name": "Python 3",
   "language": "python",
   "name": "python3"
  },
  "language_info": {
   "codemirror_mode": {
    "name": "ipython",
    "version": 3
   },
   "file_extension": ".py",
   "mimetype": "text/x-python",
   "name": "python",
   "nbconvert_exporter": "python",
   "pygments_lexer": "ipython3",
   "version": "3.6.4"
  }
 },
 "nbformat": 4,
 "nbformat_minor": 2
}
