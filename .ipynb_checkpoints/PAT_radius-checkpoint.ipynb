{
 "cells": [
  {
   "cell_type": "code",
   "execution_count": 52,
   "metadata": {},
   "outputs": [],
   "source": [
    "import pandas as pd\n",
    "import numpy as np\n",
    "from sklearn.preprocessing import scale\n",
    "import matplotlib.pyplot as plt\n",
    "from itertools import repeat\n",
    "plt.style.use('classic')\n",
    "%matplotlib inline\n",
    "\n",
    "import seaborn as sns\n",
    "sns.set()\n"
   ]
  },
  {
   "cell_type": "code",
   "execution_count": 53,
   "metadata": {},
   "outputs": [],
   "source": [
    "tl=pd.read_csv('../../Rscripts/data/90360AAAE_M64783_PR35_005.02.csv',skiprows=[1,2,3], low_memory=False, error_bad_lines=False)"
   ]
  },
  {
   "cell_type": "code",
   "execution_count": 3,
   "metadata": {},
   "outputs": [
    {
     "data": {
      "text/html": [
       "<div>\n",
       "<style scoped>\n",
       "    .dataframe tbody tr th:only-of-type {\n",
       "        vertical-align: middle;\n",
       "    }\n",
       "\n",
       "    .dataframe tbody tr th {\n",
       "        vertical-align: top;\n",
       "    }\n",
       "\n",
       "    .dataframe thead th {\n",
       "        text-align: right;\n",
       "    }\n",
       "</style>\n",
       "<table border=\"1\" class=\"dataframe\">\n",
       "  <thead>\n",
       "    <tr style=\"text-align: right;\">\n",
       "      <th></th>\n",
       "      <th>dlog_version</th>\n",
       "      <th>setup time</th>\n",
       "      <th>mode code</th>\n",
       "      <th>lot id</th>\n",
       "      <th>part type</th>\n",
       "      <th>sublot id</th>\n",
       "      <th>facility id</th>\n",
       "      <th>start time</th>\n",
       "      <th>node name</th>\n",
       "      <th>datafile path</th>\n",
       "      <th>...</th>\n",
       "      <th>MatSlopeNormal50</th>\n",
       "      <th>MatSlopeClampHigh50</th>\n",
       "      <th>Ram_With_Rom_Program_Iddq_Mode</th>\n",
       "      <th>Ram_With_Ram_Program_Iddq_Mode</th>\n",
       "      <th>RamRom_Program_InIddqMode_vVdecSet</th>\n",
       "      <th>RamRam_Program_InIddqMode_vVdecSet</th>\n",
       "      <th>HVAS</th>\n",
       "      <th>Hvas_Vdec_Voltage</th>\n",
       "      <th>TempSensorSum_fw</th>\n",
       "      <th>Unnamed: 567</th>\n",
       "    </tr>\n",
       "  </thead>\n",
       "  <tbody>\n",
       "    <tr>\n",
       "      <th>0</th>\n",
       "      <td>DAT_LINUX</td>\n",
       "      <td>2017-12-14T16:03:17.957Z</td>\n",
       "      <td>PROD</td>\n",
       "      <td>M64783</td>\n",
       "      <td>NaN</td>\n",
       "      <td>99</td>\n",
       "      <td>NaN</td>\n",
       "      <td>NaN</td>\n",
       "      <td>Keli</td>\n",
       "      <td>/mnt/linuxtesters/testlog/90360AAAE.M64783/PR3...</td>\n",
       "      <td>...</td>\n",
       "      <td>NaN</td>\n",
       "      <td>NaN</td>\n",
       "      <td>NaN</td>\n",
       "      <td>NaN</td>\n",
       "      <td>NaN</td>\n",
       "      <td>NaN</td>\n",
       "      <td>NaN</td>\n",
       "      <td>NaN</td>\n",
       "      <td>NaN</td>\n",
       "      <td>NaN</td>\n",
       "    </tr>\n",
       "    <tr>\n",
       "      <th>1</th>\n",
       "      <td>DAT_LINUX</td>\n",
       "      <td>2017-12-14T16:03:17.957Z</td>\n",
       "      <td>PROD</td>\n",
       "      <td>M64783</td>\n",
       "      <td>NaN</td>\n",
       "      <td>99</td>\n",
       "      <td>NaN</td>\n",
       "      <td>NaN</td>\n",
       "      <td>Keli</td>\n",
       "      <td>/mnt/linuxtesters/testlog/90360AAAE.M64783/PR3...</td>\n",
       "      <td>...</td>\n",
       "      <td>NaN</td>\n",
       "      <td>NaN</td>\n",
       "      <td>NaN</td>\n",
       "      <td>NaN</td>\n",
       "      <td>NaN</td>\n",
       "      <td>NaN</td>\n",
       "      <td>NaN</td>\n",
       "      <td>NaN</td>\n",
       "      <td>NaN</td>\n",
       "      <td>NaN</td>\n",
       "    </tr>\n",
       "    <tr>\n",
       "      <th>2</th>\n",
       "      <td>DAT_LINUX</td>\n",
       "      <td>2017-12-14T16:03:17.957Z</td>\n",
       "      <td>PROD</td>\n",
       "      <td>M64783</td>\n",
       "      <td>NaN</td>\n",
       "      <td>99</td>\n",
       "      <td>NaN</td>\n",
       "      <td>NaN</td>\n",
       "      <td>Keli</td>\n",
       "      <td>/mnt/linuxtesters/testlog/90360AAAE.M64783/PR3...</td>\n",
       "      <td>...</td>\n",
       "      <td>NaN</td>\n",
       "      <td>NaN</td>\n",
       "      <td>NaN</td>\n",
       "      <td>NaN</td>\n",
       "      <td>NaN</td>\n",
       "      <td>NaN</td>\n",
       "      <td>NaN</td>\n",
       "      <td>NaN</td>\n",
       "      <td>255.0</td>\n",
       "      <td>NaN</td>\n",
       "    </tr>\n",
       "    <tr>\n",
       "      <th>3</th>\n",
       "      <td>DAT_LINUX</td>\n",
       "      <td>2017-12-14T16:03:17.957Z</td>\n",
       "      <td>PROD</td>\n",
       "      <td>M64783</td>\n",
       "      <td>NaN</td>\n",
       "      <td>99</td>\n",
       "      <td>NaN</td>\n",
       "      <td>NaN</td>\n",
       "      <td>Keli</td>\n",
       "      <td>/mnt/linuxtesters/testlog/90360AAAE.M64783/PR3...</td>\n",
       "      <td>...</td>\n",
       "      <td>NaN</td>\n",
       "      <td>NaN</td>\n",
       "      <td>NaN</td>\n",
       "      <td>NaN</td>\n",
       "      <td>NaN</td>\n",
       "      <td>NaN</td>\n",
       "      <td>NaN</td>\n",
       "      <td>NaN</td>\n",
       "      <td>NaN</td>\n",
       "      <td>NaN</td>\n",
       "    </tr>\n",
       "    <tr>\n",
       "      <th>4</th>\n",
       "      <td>DAT_LINUX</td>\n",
       "      <td>2017-12-14T16:03:17.957Z</td>\n",
       "      <td>PROD</td>\n",
       "      <td>M64783</td>\n",
       "      <td>NaN</td>\n",
       "      <td>99</td>\n",
       "      <td>NaN</td>\n",
       "      <td>NaN</td>\n",
       "      <td>Keli</td>\n",
       "      <td>/mnt/linuxtesters/testlog/90360AAAE.M64783/PR3...</td>\n",
       "      <td>...</td>\n",
       "      <td>NaN</td>\n",
       "      <td>NaN</td>\n",
       "      <td>NaN</td>\n",
       "      <td>NaN</td>\n",
       "      <td>NaN</td>\n",
       "      <td>NaN</td>\n",
       "      <td>NaN</td>\n",
       "      <td>NaN</td>\n",
       "      <td>NaN</td>\n",
       "      <td>NaN</td>\n",
       "    </tr>\n",
       "  </tbody>\n",
       "</table>\n",
       "<p>5 rows × 568 columns</p>\n",
       "</div>"
      ],
      "text/plain": [
       "  dlog_version                setup time mode code  lot id  part type  \\\n",
       "0    DAT_LINUX  2017-12-14T16:03:17.957Z      PROD  M64783        NaN   \n",
       "1    DAT_LINUX  2017-12-14T16:03:17.957Z      PROD  M64783        NaN   \n",
       "2    DAT_LINUX  2017-12-14T16:03:17.957Z      PROD  M64783        NaN   \n",
       "3    DAT_LINUX  2017-12-14T16:03:17.957Z      PROD  M64783        NaN   \n",
       "4    DAT_LINUX  2017-12-14T16:03:17.957Z      PROD  M64783        NaN   \n",
       "\n",
       "   sublot id  facility id  start time node name  \\\n",
       "0         99          NaN         NaN      Keli   \n",
       "1         99          NaN         NaN      Keli   \n",
       "2         99          NaN         NaN      Keli   \n",
       "3         99          NaN         NaN      Keli   \n",
       "4         99          NaN         NaN      Keli   \n",
       "\n",
       "                                       datafile path      ...       \\\n",
       "0  /mnt/linuxtesters/testlog/90360AAAE.M64783/PR3...      ...        \n",
       "1  /mnt/linuxtesters/testlog/90360AAAE.M64783/PR3...      ...        \n",
       "2  /mnt/linuxtesters/testlog/90360AAAE.M64783/PR3...      ...        \n",
       "3  /mnt/linuxtesters/testlog/90360AAAE.M64783/PR3...      ...        \n",
       "4  /mnt/linuxtesters/testlog/90360AAAE.M64783/PR3...      ...        \n",
       "\n",
       "   MatSlopeNormal50 MatSlopeClampHigh50 Ram_With_Rom_Program_Iddq_Mode  \\\n",
       "0               NaN                 NaN                            NaN   \n",
       "1               NaN                 NaN                            NaN   \n",
       "2               NaN                 NaN                            NaN   \n",
       "3               NaN                 NaN                            NaN   \n",
       "4               NaN                 NaN                            NaN   \n",
       "\n",
       "   Ram_With_Ram_Program_Iddq_Mode  RamRom_Program_InIddqMode_vVdecSet  \\\n",
       "0                             NaN                                 NaN   \n",
       "1                             NaN                                 NaN   \n",
       "2                             NaN                                 NaN   \n",
       "3                             NaN                                 NaN   \n",
       "4                             NaN                                 NaN   \n",
       "\n",
       "   RamRam_Program_InIddqMode_vVdecSet  HVAS  Hvas_Vdec_Voltage  \\\n",
       "0                                 NaN   NaN                NaN   \n",
       "1                                 NaN   NaN                NaN   \n",
       "2                                 NaN   NaN                NaN   \n",
       "3                                 NaN   NaN                NaN   \n",
       "4                                 NaN   NaN                NaN   \n",
       "\n",
       "   TempSensorSum_fw  Unnamed: 567  \n",
       "0               NaN           NaN  \n",
       "1               NaN           NaN  \n",
       "2             255.0           NaN  \n",
       "3               NaN           NaN  \n",
       "4               NaN           NaN  \n",
       "\n",
       "[5 rows x 568 columns]"
      ]
     },
     "execution_count": 3,
     "metadata": {},
     "output_type": "execute_result"
    }
   ],
   "source": [
    "tl.head()"
   ]
  },
  {
   "cell_type": "code",
   "execution_count": 54,
   "metadata": {},
   "outputs": [],
   "source": [
    "iddqdf=tl[np.logical_and(tl['BIN']==1,tl['WAF']==16)]"
   ]
  },
  {
   "cell_type": "code",
   "execution_count": 62,
   "metadata": {},
   "outputs": [
    {
     "data": {
      "text/plain": [
       "Iddq_Delta_Before[0]       1.259290\n",
       "Iddq_Delta_Before[1]       2.029536\n",
       "Iddq_Delta_Before[2]       2.054344\n",
       "Iddq_Delta_Before[3]       2.146481\n",
       "Iddq_Delta_Before[4]       2.391590\n",
       "Iddq_Delta_Before[5]       2.171982\n",
       "Iddq_Delta_Before[6]       2.028775\n",
       "Iddq_Delta_Before[7]       2.522297\n",
       "Iddq_Delta_Before[8]       3.195934\n",
       "Iddq_Delta_Before[9]       2.609676\n",
       "Iddq_Delta_Before_After    1.321423\n",
       "dtype: float64"
      ]
     },
     "execution_count": 62,
     "metadata": {},
     "output_type": "execute_result"
    }
   ],
   "source": [
    "tliddq=iddqdf.loc[:,tl.columns.str.contains('Iddq_Delta_Before')]\n",
    "np.max(tliddq)"
   ]
  },
  {
   "cell_type": "code",
   "execution_count": 63,
   "metadata": {},
   "outputs": [
    {
     "data": {
      "text/plain": [
       "Iddq_Delta_Before[0]      -0.163791\n",
       "Iddq_Delta_Before[1]      -0.244557\n",
       "Iddq_Delta_Before[2]      -0.102298\n",
       "Iddq_Delta_Before[3]      -0.175602\n",
       "Iddq_Delta_Before[4]      -0.234837\n",
       "Iddq_Delta_Before[5]      -4.232135\n",
       "Iddq_Delta_Before[6]      -0.527320\n",
       "Iddq_Delta_Before[7]      -0.237094\n",
       "Iddq_Delta_Before[8]      -0.192468\n",
       "Iddq_Delta_Before[9]      -0.453862\n",
       "Iddq_Delta_Before_After   -0.023436\n",
       "dtype: float64"
      ]
     },
     "execution_count": 63,
     "metadata": {},
     "output_type": "execute_result"
    }
   ],
   "source": [
    "np.min(tliddq)"
   ]
  },
  {
   "cell_type": "code",
   "execution_count": 48,
   "metadata": {},
   "outputs": [
    {
     "data": {
      "text/plain": [
       "<seaborn.axisgrid.FacetGrid at 0x1a7525c780>"
      ]
     },
     "execution_count": 48,
     "metadata": {},
     "output_type": "execute_result"
    },
    {
     "data": {
      "image/png": "[encoded data removed]",
      "text/plain": [
       "<matplotlib.figure.Figure at 0x1a75331dd8>"
      ]
     },
     "metadata": {},
     "output_type": "display_data"
    }
   ],
   "source": [
    "tliddq=pd.melt(tliddq,var_name='iddqmeas',value_name='iddqval')\n",
    "g = sns.FacetGrid(tliddq, col='iddqmeas',col_wrap=5)\n",
    "g.map(plt.hist,'iddqval',bins=50)"
   ]
  },
  {
   "cell_type": "code",
   "execution_count": 13,
   "metadata": {},
   "outputs": [],
   "source": [
    "iddqdf=iddqdf[['XPos','YPos','Iddq_Delta_Before[0]']]"
   ]
  },
  {
   "cell_type": "code",
   "execution_count": 14,
   "metadata": {},
   "outputs": [
    {
     "data": {
      "text/plain": [
       "(7441, 3)"
      ]
     },
     "execution_count": 14,
     "metadata": {},
     "output_type": "execute_result"
    }
   ],
   "source": [
    "iddqdf.shape"
   ]
  },
  {
   "cell_type": "code",
   "execution_count": 15,
   "metadata": {},
   "outputs": [],
   "source": [
    "iddqdf=iddqdf.dropna()"
   ]
  },
  {
   "cell_type": "code",
   "execution_count": 17,
   "metadata": {},
   "outputs": [
    {
     "data": {
      "text/plain": [
       "(7441, 3)"
      ]
     },
     "execution_count": 17,
     "metadata": {},
     "output_type": "execute_result"
    }
   ],
   "source": [
    "iddqdf.shape"
   ]
  },
  {
   "cell_type": "code",
   "execution_count": 18,
   "metadata": {},
   "outputs": [
    {
     "data": {
      "text/plain": [
       "<matplotlib.axes._subplots.AxesSubplot at 0x10c519b70>"
      ]
     },
     "execution_count": 18,
     "metadata": {},
     "output_type": "execute_result"
    },
    {
     "data": {
      "image/png": "[encoded data removed]",
      "text/plain": [
       "<matplotlib.figure.Figure at 0x10c5193c8>"
      ]
     },
     "metadata": {},
     "output_type": "display_data"
    }
   ],
   "source": [
    "sns.distplot(iddqdf['Iddq_Delta_Before[0]'])"
   ]
  },
  {
   "cell_type": "code",
   "execution_count": 19,
   "metadata": {},
   "outputs": [],
   "source": [
    "def nniddq(xn,yn,rad,df):\n",
    "    dfc=df.copy()\n",
    "    dfc['r']=np.sqrt((dfc['XPos']-xn)**2+(dfc['YPos']-yn)**2)\n",
    "    dfc=dfc[dfc['r']<rad]\n",
    "    dfc['iddqs']=scale(dfc['Iddq_Delta_Before[0]'])\n",
    "    \n",
    "    return(dfc.loc[dfc['r']==0,'iddqs'].values)"
   ]
  },
  {
   "cell_type": "code",
   "execution_count": 20,
   "metadata": {},
   "outputs": [
    {
     "data": {
      "text/plain": [
       "array([-2.59167996])"
      ]
     },
     "execution_count": 20,
     "metadata": {},
     "output_type": "execute_result"
    }
   ],
   "source": [
    "nniddq(59,42,5,iddqdf)"
   ]
  },
  {
   "cell_type": "code",
   "execution_count": 21,
   "metadata": {},
   "outputs": [],
   "source": [
    "w=np.array(list(map(nniddq,iddqdf['XPos'],iddqdf['YPos'],repeat(5),repeat(iddqdf))))"
   ]
  },
  {
   "cell_type": "code",
   "execution_count": 22,
   "metadata": {},
   "outputs": [
    {
     "data": {
      "text/plain": [
       "(7441, 1)"
      ]
     },
     "execution_count": 22,
     "metadata": {},
     "output_type": "execute_result"
    }
   ],
   "source": [
    "w.shape"
   ]
  },
  {
   "cell_type": "code",
   "execution_count": 23,
   "metadata": {},
   "outputs": [
    {
     "data": {
      "text/plain": [
       "array([42])"
      ]
     },
     "execution_count": 23,
     "metadata": {},
     "output_type": "execute_result"
    }
   ],
   "source": [
    "sum(w<(-2.5))"
   ]
  },
  {
   "cell_type": "code",
   "execution_count": 24,
   "metadata": {},
   "outputs": [
    {
     "data": {
      "text/plain": [
       "array([39])"
      ]
     },
     "execution_count": 24,
     "metadata": {},
     "output_type": "execute_result"
    }
   ],
   "source": [
    "sum(w>2.5)"
   ]
  },
  {
   "cell_type": "code",
   "execution_count": null,
   "metadata": {},
   "outputs": [],
   "source": []
  }
 ],
 "metadata": {
  "kernelspec": {
   "display_name": "Python 3",
   "language": "python",
   "name": "python3"
  },
  "language_info": {
   "codemirror_mode": {
    "name": "ipython",
    "version": 3
   },
   "file_extension": ".py",
   "mimetype": "text/x-python",
   "name": "python",
   "nbconvert_exporter": "python",
   "pygments_lexer": "ipython3",
   "version": "3.6.4"
  }
 },
 "nbformat": 4,
 "nbformat_minor": 2
}
