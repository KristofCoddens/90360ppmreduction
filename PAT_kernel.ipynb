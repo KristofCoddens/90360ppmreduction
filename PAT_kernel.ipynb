{
 "cells": [
  {
   "cell_type": "code",
   "execution_count": 1,
   "metadata": {},
   "outputs": [],
   "source": [
    "import pandas as pd\n",
    "import numpy as np\n",
    "from sklearn.preprocessing import scale\n",
    "import matplotlib.pyplot as plt\n",
    "from itertools import repeat\n",
    "from scipy.sparse import coo_matrix\n",
    "import scipy\n",
    "import scipy.signal\n",
    "import seaborn as sns\n",
    "\n",
    "plt.style.use('classic')\n",
    "%matplotlib inline\n",
    "\n",
    "sns.set()"
   ]
  },
  {
   "cell_type": "code",
   "execution_count": 3,
   "metadata": {},
   "outputs": [],
   "source": [
    "tl=pd.read_csv('../../Rscripts/data/source data/90360AAAE_M64783_PR35_005.02.csv',skiprows=[1,2,3], low_memory=False, error_bad_lines=False)"
   ]
  },
  {
   "cell_type": "code",
   "execution_count": 4,
   "metadata": {},
   "outputs": [],
   "source": [
    "iddqdf=tl[np.logical_and(tl['BIN']==1,tl['WAF']==16)]"
   ]
  },
  {
   "cell_type": "code",
   "execution_count": 5,
   "metadata": {},
   "outputs": [],
   "source": [
    "iddqdf=iddqdf[['XPos','YPos','Iddq_Delta_Before[0]']]"
   ]
  },
  {
   "cell_type": "code",
   "execution_count": 6,
   "metadata": {},
   "outputs": [],
   "source": [
    "iddqdf=iddqdf.dropna()"
   ]
  },
  {
   "cell_type": "code",
   "execution_count": 31,
   "metadata": {},
   "outputs": [],
   "source": [
    "def nniddqkernel(df):\n",
    "    row = np.array(df['XPos'])\n",
    "    col = np.array(df['YPos'])\n",
    "    data = np.array(df['Iddq_Delta_Before[0]'])\n",
    "    spm = coo_matrix((data, (row, col))).toarray()\n",
    "    \n",
    "    #Kernel to calculate the average of the values surrounding the center die\n",
    "    kernel = (1/12) * np.array([[0,0,1,0,0],[0,1,1,1,0],[1,1,0,1,1],[0,1,1,1,0],[0,0,1,0,0]])\n",
    "\n",
    "    avarr = scipy.signal.convolve2d(spm, kernel, 'same')\n",
    "    \n",
    "    deltaarr = spm - avarr\n",
    "    \n",
    "    deltaarr = deltaarr / np.std(df['Iddq_Delta_Before[0]'])\n",
    "    \n",
    "    patdfx = np.transpose(np.nonzero(deltaarr))[:,0]\n",
    "    patdfx[np.isnan(patdfx)] = 0\n",
    "    patdfy = np.transpose(np.nonzero(deltaarr))[:,1]\n",
    "    patdfy[np.isnan(patdfy)] = 0\n",
    "    patest = np.ravel(deltaarr)\n",
    "    patest = patest[np.nonzero(patest)]\n",
    "    \n",
    "    patdf = pd.DataFrame({'x' : pd.Series(patdfx),\n",
    "                          'y' : pd.Series(patdfy),\n",
    "                          'patest' : pd.Series(patest)})\n",
    "    \n",
    "    patdf = patdf.fillna(0)\n",
    "    patdf['x'] = patdf['x'].astype('int32')\n",
    "    patdf['y'] = patdf['y'].astype('int32')\n",
    "    \n",
    "    return(patdf)"
   ]
  },
  {
   "cell_type": "code",
   "execution_count": 32,
   "metadata": {},
   "outputs": [],
   "source": [
    "k = nniddqkernel(iddqdf)"
   ]
  },
  {
   "cell_type": "code",
   "execution_count": 33,
   "metadata": {},
   "outputs": [
    {
     "data": {
      "text/html": [
       "<div>\n",
       "<style scoped>\n",
       "    .dataframe tbody tr th:only-of-type {\n",
       "        vertical-align: middle;\n",
       "    }\n",
       "\n",
       "    .dataframe tbody tr th {\n",
       "        vertical-align: top;\n",
       "    }\n",
       "\n",
       "    .dataframe thead th {\n",
       "        text-align: right;\n",
       "    }\n",
       "</style>\n",
       "<table border=\"1\" class=\"dataframe\">\n",
       "  <thead>\n",
       "    <tr style=\"text-align: right;\">\n",
       "      <th></th>\n",
       "      <th>patest</th>\n",
       "      <th>x</th>\n",
       "      <th>y</th>\n",
       "    </tr>\n",
       "  </thead>\n",
       "  <tbody>\n",
       "    <tr>\n",
       "      <th>3499</th>\n",
       "      <td>-1.168825</td>\n",
       "      <td>59</td>\n",
       "      <td>42</td>\n",
       "    </tr>\n",
       "  </tbody>\n",
       "</table>\n",
       "</div>"
      ],
      "text/plain": [
       "        patest   x   y\n",
       "3499 -1.168825  59  42"
      ]
     },
     "execution_count": 33,
     "metadata": {},
     "output_type": "execute_result"
    }
   ],
   "source": [
    "k.loc[np.logical_and(k['x']==59,k['y']==42),:]"
   ]
  },
  {
   "cell_type": "code",
   "execution_count": 34,
   "metadata": {},
   "outputs": [
    {
     "data": {
      "text/html": [
       "<div>\n",
       "<style scoped>\n",
       "    .dataframe tbody tr th:only-of-type {\n",
       "        vertical-align: middle;\n",
       "    }\n",
       "\n",
       "    .dataframe tbody tr th {\n",
       "        vertical-align: top;\n",
       "    }\n",
       "\n",
       "    .dataframe thead th {\n",
       "        text-align: right;\n",
       "    }\n",
       "</style>\n",
       "<table border=\"1\" class=\"dataframe\">\n",
       "  <thead>\n",
       "    <tr style=\"text-align: right;\">\n",
       "      <th></th>\n",
       "      <th>patest</th>\n",
       "      <th>x</th>\n",
       "      <th>y</th>\n",
       "    </tr>\n",
       "  </thead>\n",
       "  <tbody>\n",
       "    <tr>\n",
       "      <th>count</th>\n",
       "      <td>8415.000000</td>\n",
       "      <td>8415.000000</td>\n",
       "      <td>8415.000000</td>\n",
       "    </tr>\n",
       "    <tr>\n",
       "      <th>mean</th>\n",
       "      <td>0.000679</td>\n",
       "      <td>67.373262</td>\n",
       "      <td>45.240761</td>\n",
       "    </tr>\n",
       "    <tr>\n",
       "      <th>std</th>\n",
       "      <td>0.991562</td>\n",
       "      <td>31.489202</td>\n",
       "      <td>21.274716</td>\n",
       "    </tr>\n",
       "    <tr>\n",
       "      <th>min</th>\n",
       "      <td>-7.786335</td>\n",
       "      <td>4.000000</td>\n",
       "      <td>3.000000</td>\n",
       "    </tr>\n",
       "    <tr>\n",
       "      <th>25%</th>\n",
       "      <td>-0.418063</td>\n",
       "      <td>42.000000</td>\n",
       "      <td>28.000000</td>\n",
       "    </tr>\n",
       "    <tr>\n",
       "      <th>50%</th>\n",
       "      <td>-0.036862</td>\n",
       "      <td>67.000000</td>\n",
       "      <td>45.000000</td>\n",
       "    </tr>\n",
       "    <tr>\n",
       "      <th>75%</th>\n",
       "      <td>0.402591</td>\n",
       "      <td>93.000000</td>\n",
       "      <td>62.000000</td>\n",
       "    </tr>\n",
       "    <tr>\n",
       "      <th>max</th>\n",
       "      <td>56.694685</td>\n",
       "      <td>129.000000</td>\n",
       "      <td>86.000000</td>\n",
       "    </tr>\n",
       "  </tbody>\n",
       "</table>\n",
       "</div>"
      ],
      "text/plain": [
       "            patest            x            y\n",
       "count  8415.000000  8415.000000  8415.000000\n",
       "mean      0.000679    67.373262    45.240761\n",
       "std       0.991562    31.489202    21.274716\n",
       "min      -7.786335     4.000000     3.000000\n",
       "25%      -0.418063    42.000000    28.000000\n",
       "50%      -0.036862    67.000000    45.000000\n",
       "75%       0.402591    93.000000    62.000000\n",
       "max      56.694685   129.000000    86.000000"
      ]
     },
     "execution_count": 34,
     "metadata": {},
     "output_type": "execute_result"
    }
   ],
   "source": [
    "k.describe()"
   ]
  },
  {
   "cell_type": "code",
   "execution_count": 35,
   "metadata": {},
   "outputs": [
    {
     "data": {
      "text/plain": [
       "<matplotlib.axes._subplots.AxesSubplot at 0x1c16311f60>"
      ]
     },
     "execution_count": 35,
     "metadata": {},
     "output_type": "execute_result"
    },
    {
     "data": {
      "image/png": "[encoded data removed]",
      "text/plain": [
       "<matplotlib.figure.Figure at 0x1c162ed1d0>"
      ]
     },
     "metadata": {},
     "output_type": "display_data"
    }
   ],
   "source": [
    "sns.distplot(k['patest'])"
   ]
  },
  {
   "cell_type": "code",
   "execution_count": 40,
   "metadata": {},
   "outputs": [
    {
     "data": {
      "text/plain": [
       "305"
      ]
     },
     "execution_count": 40,
     "metadata": {},
     "output_type": "execute_result"
    }
   ],
   "source": [
    "k.loc[k['patest']>(1.15),['patest']].size"
   ]
  },
  {
   "cell_type": "code",
   "execution_count": 41,
   "metadata": {},
   "outputs": [
    {
     "data": {
      "text/plain": [
       "220"
      ]
     },
     "execution_count": 41,
     "metadata": {},
     "output_type": "execute_result"
    }
   ],
   "source": [
    "k.loc[k['patest']<(-1.15),['patest']].size"
   ]
  },
  {
   "cell_type": "code",
   "execution_count": null,
   "metadata": {},
   "outputs": [],
   "source": []
  }
 ],
 "metadata": {
  "kernelspec": {
   "display_name": "Python 3",
   "language": "python",
   "name": "python3"
  },
  "language_info": {
   "codemirror_mode": {
    "name": "ipython",
    "version": 3
   },
   "file_extension": ".py",
   "mimetype": "text/x-python",
   "name": "python",
   "nbconvert_exporter": "python",
   "pygments_lexer": "ipython3",
   "version": "3.6.4"
  }
 },
 "nbformat": 4,
 "nbformat_minor": 2
}
